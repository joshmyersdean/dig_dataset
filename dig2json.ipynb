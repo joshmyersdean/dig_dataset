{
 "cells": [
  {
   "cell_type": "code",
   "execution_count": 1,
   "metadata": {},
   "outputs": [],
   "source": [
    "import json\n",
    "import cv2\n",
    "import pickle\n",
    "import numpy as np\n",
    "import matplotlib.pyplot as plt\n",
    "import os\n",
    "import pandas as pd"
   ]
  },
  {
   "cell_type": "code",
   "execution_count": 2,
   "metadata": {},
   "outputs": [],
   "source": [
    "with open('cocolvis_cp/val2017/hannotation.pickle', 'rb') as f:\n",
    "    data = pickle.load(f)"
   ]
  },
  {
   "cell_type": "code",
   "execution_count": 47,
   "metadata": {},
   "outputs": [],
   "source": [
    "df = pd.DataFrame(columns=['img_id', 'obj_id', 'syn_gt', 'syn_gt_void', 'syn_annotations', 'prior', 'corr_id', 'gesture', 'mode'])"
   ]
  },
  {
   "cell_type": "code",
   "execution_count": 4,
   "metadata": {},
   "outputs": [
    {
     "data": {
      "text/plain": [
       "['000000520910',\n",
       " '000000013201',\n",
       " '000000445846',\n",
       " '000000368752',\n",
       " '000000064868',\n",
       " '000000135410',\n",
       " '000000556158',\n",
       " '000000437110',\n",
       " '000000376625',\n",
       " '000000241326']"
      ]
     },
     "execution_count": 4,
     "metadata": {},
     "output_type": "execute_result"
    }
   ],
   "source": [
    "gts = os.listdir('cocolvis_cp/val2017/gts_og')\n",
    "im_ids = [i[:-4] for i in gts]\n",
    "im_ids[:10]"
   ]
  },
  {
   "cell_type": "code",
   "execution_count": 27,
   "metadata": {},
   "outputs": [
    {
     "data": {
      "text/plain": [
       "'000000000139_00001_000_boundary_add.png'"
      ]
     },
     "execution_count": 27,
     "metadata": {},
     "output_type": "execute_result"
    }
   ],
   "source": [
    "p_annots = sorted(os.listdir('cocolvis_cp/val2017/new_fl_syn_annotations'))\n",
    "p_annots[0]"
   ]
  },
  {
   "cell_type": "code",
   "execution_count": 17,
   "metadata": {},
   "outputs": [],
   "source": [
    "nop_annots = sorted(os.listdir('cocolvis_cp/val2017/syn_annotations'))\n",
    "nop_gts = sorted(os.listdir('cocolvis_cp/val2017/syn_gts'))\n",
    "assert len(nop_annots) == len(nop_gts)\n",
    "nopa_dir = 'cocolvis_cp/val2017/syn_annotations'\n",
    "nopg_dir = 'cocolvis_cp/val2017/syn_gts'"
   ]
  },
  {
   "cell_type": "code",
   "execution_count": 50,
   "metadata": {},
   "outputs": [
    {
     "data": {
      "text/plain": [
       "(0, -1, True, False)"
      ]
     },
     "execution_count": 50,
     "metadata": {},
     "output_type": "execute_result"
    }
   ],
   "source": [
    "def get_corr_id(fpath):\n",
    "    if len(fpath.split('_')) == 5:\n",
    "        return int(fpath.split('_')[2])\n",
    "    return -1\n",
    "\n",
    "def get_obj_id(fpath):\n",
    "    return int(fpath.split('_')[1])\n",
    "\n",
    "def has_prior(fpath):\n",
    "    prior = fpath.split('_')[-1][:-4]\n",
    "    if prior == 'noprior':\n",
    "        return False\n",
    "    return True\n",
    "\n",
    "def get_mode(fpath):\n",
    "    mode = fpath.split('_')[-1][:-4]\n",
    "    if mode == 'sub':\n",
    "        return 0\n",
    "    return 1\n",
    "\n",
    "get_corr_id(p_annots[0]), get_corr_id(nop_annots[0]), has_prior(p_annots[0]), has_prior(nop_annots[0])"
   ]
  },
  {
   "cell_type": "code",
   "execution_count": 45,
   "metadata": {},
   "outputs": [],
   "source": [
    "def create_blank_row():\n",
    "    row = {\n",
    "            'img_id': None,\n",
    "            'obj_id': None,\n",
    "            'syn_gt': None,\n",
    "            'syn_gt_void': None,\n",
    "            'syn_annotations': None,\n",
    "            'prior': None,\n",
    "            'corr_id': None,\n",
    "            'gesture': None,\n",
    "            'mode': None\n",
    "        }\n",
    "    return row"
   ]
  },
  {
   "cell_type": "code",
   "execution_count": 52,
   "metadata": {},
   "outputs": [
    {
     "data": {
      "text/html": [
       "<div>\n",
       "<style scoped>\n",
       "    .dataframe tbody tr th:only-of-type {\n",
       "        vertical-align: middle;\n",
       "    }\n",
       "\n",
       "    .dataframe tbody tr th {\n",
       "        vertical-align: top;\n",
       "    }\n",
       "\n",
       "    .dataframe thead th {\n",
       "        text-align: right;\n",
       "    }\n",
       "</style>\n",
       "<table border=\"1\" class=\"dataframe\">\n",
       "  <thead>\n",
       "    <tr style=\"text-align: right;\">\n",
       "      <th></th>\n",
       "      <th>img_id</th>\n",
       "      <th>obj_id</th>\n",
       "      <th>syn_gt</th>\n",
       "      <th>syn_gt_void</th>\n",
       "      <th>syn_annotations</th>\n",
       "      <th>prior</th>\n",
       "      <th>corr_id</th>\n",
       "      <th>gesture</th>\n",
       "      <th>mode</th>\n",
       "    </tr>\n",
       "  </thead>\n",
       "  <tbody>\n",
       "    <tr>\n",
       "      <th>0</th>\n",
       "      <td>000000520910</td>\n",
       "      <td>[1, 1, 1, 1, 1, 2, 2, 2, 2, 2, 4, 4, 4, 4, 4, ...</td>\n",
       "      <td>[[[162, 163, 163, 163, 163, 163, 163, 163, 163...</td>\n",
       "      <td>[[[167, 168, 169], [213, 214, 215]], [[], []],...</td>\n",
       "      <td>[[[157, 158, 158, 158, 158, 158, 158, 158, 159...</td>\n",
       "      <td>[False, False, False, False, False, False, Fal...</td>\n",
       "      <td>[-1, -1, -1, -1, -1, -1, -1, -1, -1, -1, -1, -...</td>\n",
       "      <td>[3, 4, 2, 0, 1, 3, 4, 2, 0, 1, 3, 4, 2, 0, 1, ...</td>\n",
       "      <td>[1, 1, 1, 1, 1, 1, 1, 1, 1, 1, 1, 1, 1, 1, 1, ...</td>\n",
       "    </tr>\n",
       "    <tr>\n",
       "      <th>1</th>\n",
       "      <td>000000013201</td>\n",
       "      <td>[1, 1, 1, 1, 1, 2, 2, 2, 2, 2, 4, 4, 4, 4, 4, ...</td>\n",
       "      <td>[[[87, 88, 88, 88, 89, 89, 89, 89, 89, 90, 90,...</td>\n",
       "      <td>[[[288, 290, 437, 437, 438, 438, 438, 438, 438...</td>\n",
       "      <td>[[[83, 83, 83, 83, 83, 83, 83, 84, 84, 84, 84,...</td>\n",
       "      <td>[False, False, False, False, False, False, Fal...</td>\n",
       "      <td>[-1, -1, -1, -1, -1, -1, -1, -1, -1, -1]</td>\n",
       "      <td>[3, 4, 2, 0, 1, 3, 4, 2, 0, 1]</td>\n",
       "      <td>[1, 1, 1, 1, 1, 1, 1, 1, 1, 1]</td>\n",
       "    </tr>\n",
       "    <tr>\n",
       "      <th>2</th>\n",
       "      <td>000000445846</td>\n",
       "      <td>[1, 1, 1, 1, 1, 3, 3, 3, 3, 3]</td>\n",
       "      <td>[[[267, 267, 267, 267, 267, 267, 267, 267, 267...</td>\n",
       "      <td>[[[], []], [[], []], [[], []], [[], []], [[], ...</td>\n",
       "      <td>[[[243, 243, 243, 243, 243, 244, 244, 244, 244...</td>\n",
       "      <td>[False, False, False, False, False, False, Fal...</td>\n",
       "      <td>[-1, -1, -1, -1, -1, -1, -1, -1, -1, -1, -1, -...</td>\n",
       "      <td>[3, 4, 2, 0, 1, 3, 4, 2, 0, 1, 3, 4, 2, 0, 1, ...</td>\n",
       "      <td>[1, 1, 1, 1, 1, 1, 1, 1, 1, 1, 1, 1, 1, 1, 1, ...</td>\n",
       "    </tr>\n",
       "    <tr>\n",
       "      <th>3</th>\n",
       "      <td>000000368752</td>\n",
       "      <td>[1, 1, 1, 1, 1, 3, 3, 3, 3, 3, 4, 4, 4, 4, 4, ...</td>\n",
       "      <td>[[[0, 0, 0, 0, 0, 0, 0, 0, 0, 0, 0, 0, 0, 0, 0...</td>\n",
       "      <td>[[[], []], [[], []], [[], []], [[], []], [[], ...</td>\n",
       "      <td>[[[0, 0, 0, 0, 0, 0, 0, 0, 0, 0, 0, 0, 0, 0, 0...</td>\n",
       "      <td>[False, False, False, False, False, False, Fal...</td>\n",
       "      <td>[-1, -1, -1, -1, -1, -1, -1, -1, -1, -1, -1, -...</td>\n",
       "      <td>[3, 4, 2, 0, 1, 3, 4, 2, 0, 1, 3, 4, 2, 0, 1, ...</td>\n",
       "      <td>[1, 1, 1, 1, 1, 1, 1, 1, 1, 1, 1, 1, 1, 1, 1, ...</td>\n",
       "    </tr>\n",
       "    <tr>\n",
       "      <th>4</th>\n",
       "      <td>000000064868</td>\n",
       "      <td>[1, 1, 1, 1, 1, 2, 2, 2, 2, 2, 3, 3, 3, 3, 3, ...</td>\n",
       "      <td>[[[9, 9, 9, 9, 9, 9, 9, 9, 9, 9, 9, 9, 9, 9, 9...</td>\n",
       "      <td>[[[117, 121, 126, 131, 134, 135, 136, 138, 139...</td>\n",
       "      <td>[[[4, 4, 4, 4, 4, 4, 4, 4, 4, 4, 4, 4, 5, 5, 5...</td>\n",
       "      <td>[False, False, False, False, False, False, Fal...</td>\n",
       "      <td>[-1, -1, -1, -1, -1, -1, -1, -1, -1, -1, -1, -...</td>\n",
       "      <td>[3, 4, 0, 1, 3, 4, 2, 0, 1, 3, 4, 2, 0, 1, 3, ...</td>\n",
       "      <td>[1, 1, 1, 1, 1, 1, 1, 1, 1, 1, 1, 1, 1, 1, 1, ...</td>\n",
       "    </tr>\n",
       "  </tbody>\n",
       "</table>\n",
       "</div>"
      ],
      "text/plain": [
       "         img_id                                             obj_id  \\\n",
       "0  000000520910  [1, 1, 1, 1, 1, 2, 2, 2, 2, 2, 4, 4, 4, 4, 4, ...   \n",
       "1  000000013201  [1, 1, 1, 1, 1, 2, 2, 2, 2, 2, 4, 4, 4, 4, 4, ...   \n",
       "2  000000445846                     [1, 1, 1, 1, 1, 3, 3, 3, 3, 3]   \n",
       "3  000000368752  [1, 1, 1, 1, 1, 3, 3, 3, 3, 3, 4, 4, 4, 4, 4, ...   \n",
       "4  000000064868  [1, 1, 1, 1, 1, 2, 2, 2, 2, 2, 3, 3, 3, 3, 3, ...   \n",
       "\n",
       "                                              syn_gt  \\\n",
       "0  [[[162, 163, 163, 163, 163, 163, 163, 163, 163...   \n",
       "1  [[[87, 88, 88, 88, 89, 89, 89, 89, 89, 90, 90,...   \n",
       "2  [[[267, 267, 267, 267, 267, 267, 267, 267, 267...   \n",
       "3  [[[0, 0, 0, 0, 0, 0, 0, 0, 0, 0, 0, 0, 0, 0, 0...   \n",
       "4  [[[9, 9, 9, 9, 9, 9, 9, 9, 9, 9, 9, 9, 9, 9, 9...   \n",
       "\n",
       "                                         syn_gt_void  \\\n",
       "0  [[[167, 168, 169], [213, 214, 215]], [[], []],...   \n",
       "1  [[[288, 290, 437, 437, 438, 438, 438, 438, 438...   \n",
       "2  [[[], []], [[], []], [[], []], [[], []], [[], ...   \n",
       "3  [[[], []], [[], []], [[], []], [[], []], [[], ...   \n",
       "4  [[[117, 121, 126, 131, 134, 135, 136, 138, 139...   \n",
       "\n",
       "                                     syn_annotations  \\\n",
       "0  [[[157, 158, 158, 158, 158, 158, 158, 158, 159...   \n",
       "1  [[[83, 83, 83, 83, 83, 83, 83, 84, 84, 84, 84,...   \n",
       "2  [[[243, 243, 243, 243, 243, 244, 244, 244, 244...   \n",
       "3  [[[0, 0, 0, 0, 0, 0, 0, 0, 0, 0, 0, 0, 0, 0, 0...   \n",
       "4  [[[4, 4, 4, 4, 4, 4, 4, 4, 4, 4, 4, 4, 5, 5, 5...   \n",
       "\n",
       "                                               prior  \\\n",
       "0  [False, False, False, False, False, False, Fal...   \n",
       "1  [False, False, False, False, False, False, Fal...   \n",
       "2  [False, False, False, False, False, False, Fal...   \n",
       "3  [False, False, False, False, False, False, Fal...   \n",
       "4  [False, False, False, False, False, False, Fal...   \n",
       "\n",
       "                                             corr_id  \\\n",
       "0  [-1, -1, -1, -1, -1, -1, -1, -1, -1, -1, -1, -...   \n",
       "1           [-1, -1, -1, -1, -1, -1, -1, -1, -1, -1]   \n",
       "2  [-1, -1, -1, -1, -1, -1, -1, -1, -1, -1, -1, -...   \n",
       "3  [-1, -1, -1, -1, -1, -1, -1, -1, -1, -1, -1, -...   \n",
       "4  [-1, -1, -1, -1, -1, -1, -1, -1, -1, -1, -1, -...   \n",
       "\n",
       "                                             gesture  \\\n",
       "0  [3, 4, 2, 0, 1, 3, 4, 2, 0, 1, 3, 4, 2, 0, 1, ...   \n",
       "1                     [3, 4, 2, 0, 1, 3, 4, 2, 0, 1]   \n",
       "2  [3, 4, 2, 0, 1, 3, 4, 2, 0, 1, 3, 4, 2, 0, 1, ...   \n",
       "3  [3, 4, 2, 0, 1, 3, 4, 2, 0, 1, 3, 4, 2, 0, 1, ...   \n",
       "4  [3, 4, 0, 1, 3, 4, 2, 0, 1, 3, 4, 2, 0, 1, 3, ...   \n",
       "\n",
       "                                                mode  \n",
       "0  [1, 1, 1, 1, 1, 1, 1, 1, 1, 1, 1, 1, 1, 1, 1, ...  \n",
       "1                     [1, 1, 1, 1, 1, 1, 1, 1, 1, 1]  \n",
       "2  [1, 1, 1, 1, 1, 1, 1, 1, 1, 1, 1, 1, 1, 1, 1, ...  \n",
       "3  [1, 1, 1, 1, 1, 1, 1, 1, 1, 1, 1, 1, 1, 1, 1, ...  \n",
       "4  [1, 1, 1, 1, 1, 1, 1, 1, 1, 1, 1, 1, 1, 1, 1, ...  "
      ]
     },
     "execution_count": 52,
     "metadata": {},
     "output_type": "execute_result"
    }
   ],
   "source": [
    "gesture_dict = {\n",
    "    'click': 0,\n",
    "    'stroke': 1,\n",
    "    'circle': 2,\n",
    "    'boundary': 3,\n",
    "    'box': 4\n",
    "}\n",
    "df = pd.DataFrame(columns=['img_id', 'obj_id', 'syn_gt', 'syn_gt_void', 'syn_annotations', 'prior', 'corr_id', 'gesture', 'mode'])\n",
    "for id_ in im_ids[:10]:\n",
    "    row = create_blank_row()\n",
    "    row['img_id'] = id_\n",
    "    _obj_ids = list(map(lambda x: get_obj_id(x), tmp_annots_names))\n",
    "    row['obj_id'] = _obj_ids\n",
    "    \n",
    "    tmp_annots_names = sorted([i for i in nop_annots if id_ in i])\n",
    "    tmp_gts_names = sorted([i for i in nop_gts if id_ in i])\n",
    "    tmp_annots = [cv2.imread(f\"{nopa_dir}/{i}\")[:,:,0] for i in tmp_annots_names]\n",
    "    tmp_gts = [cv2.imread(f\"{nopg_dir}/{i}\")[:,:,0] for i in tmp_gts_names]\n",
    "    _valids = [list(np.where(i == 1)) for i in tmp_gts]\n",
    "    _voids = [list(np.where(i == 255)) for i in tmp_gts]\n",
    "    row['syn_gt'] = _valids\n",
    "    row['syn_gt_void'] = _voids\n",
    "    \n",
    "    _annots = [list(np.where(i == 255)) for i in tmp_annots]\n",
    "    row['syn_annotations'] = _annots\n",
    "    \n",
    "    _gests = [i.split('_')[-2] for i in tmp_annots_names]\n",
    "    _gests = [gesture_dict[i] for i in _gests]\n",
    "    _modes = [i.split('_')[-1][:-4] for i in tmp_annots_names]\n",
    "    row['gesture'] = _gests\n",
    "    row['mode'] = _modes\n",
    "    _corr_ids = list(map(lambda x: get_corr_id(x), tmp_annots_names))\n",
    "    row['corr_id'] = _corr_ids \n",
    "    _priors = list(map(lambda x: has_prior(x), tmp_annots_names))\n",
    "    row['prior'] = _priors\n",
    "    \n",
    "    _modes = list(map(lambda x: get_mode(x), tmp_annots_names))\n",
    "    row['mode'] = _modes\n",
    "    \n",
    "    df = df.append(row, ignore_index = True)\n",
    "df.head()"
   ]
  },
  {
   "cell_type": "code",
   "execution_count": 21,
   "metadata": {},
   "outputs": [
    {
     "data": {
      "text/plain": [
       "'000000000139_00001_boundary_noprior.png'"
      ]
     },
     "execution_count": 21,
     "metadata": {},
     "output_type": "execute_result"
    }
   ],
   "source": [
    "nop_annots[0]"
   ]
  }
 ],
 "metadata": {
  "kernelspec": {
   "display_name": "csci7000",
   "language": "python",
   "name": "csci7000"
  },
  "language_info": {
   "codemirror_mode": {
    "name": "ipython",
    "version": 3
   },
   "file_extension": ".py",
   "mimetype": "text/x-python",
   "name": "python",
   "nbconvert_exporter": "python",
   "pygments_lexer": "ipython3",
   "version": "3.9.7"
  }
 },
 "nbformat": 4,
 "nbformat_minor": 4
}
